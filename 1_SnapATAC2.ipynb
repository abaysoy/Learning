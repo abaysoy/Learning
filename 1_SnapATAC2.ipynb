{
  "cells": [
    {
      "cell_type": "markdown",
      "metadata": {
        "id": "view-in-github",
        "colab_type": "text"
      },
      "source": [
        "<a href=\"https://colab.research.google.com/github/abaysoy/Learning/blob/main/1_SnapATAC2.ipynb\" target=\"_parent\"><img src=\"https://colab.research.google.com/assets/colab-badge.svg\" alt=\"Open In Colab\"/></a>"
      ]
    },
    {
      "cell_type": "markdown",
      "metadata": {
        "id": "EccUqXFNsspj"
      },
      "source": [
        "Code written by Yao Lu, annotated by Shuozhen Bao"
      ],
      "id": "EccUqXFNsspj"
    },
    {
      "cell_type": "markdown",
      "metadata": {
        "id": "L-nTo4AjW4-t"
      },
      "source": [
        "## Install the package\n",
        "If there's a error message about the pip dependency resolver, this is due to the CoLab default environment. As long as the packages are installed successfully, it's okay to proceed."
      ],
      "id": "L-nTo4AjW4-t"
    },
    {
      "cell_type": "code",
      "execution_count": 1,
      "metadata": {
        "colab": {
          "base_uri": "https://localhost:8080/"
        },
        "id": "85c32bf5",
        "outputId": "9f4b19bb-5757-471e-8a64-69958edd109d"
      },
      "outputs": [
        {
          "output_type": "stream",
          "name": "stdout",
          "text": [
            "Requirement already satisfied: anndata==0.8.0 in /usr/local/lib/python3.10/dist-packages (0.8.0)\n",
            "Requirement already satisfied: snapatac2==2.4.0 in /usr/local/lib/python3.10/dist-packages (2.4.0)\n",
            "Requirement already satisfied: scanpy==1.9.3 in /usr/local/lib/python3.10/dist-packages (1.9.3)\n",
            "Requirement already satisfied: scipy in /usr/local/lib/python3.10/dist-packages (1.13.1)\n",
            "Requirement already satisfied: pandas==1.5.3 in /usr/local/lib/python3.10/dist-packages (1.5.3)\n",
            "Requirement already satisfied: numpy==1.24.3 in /usr/local/lib/python3.10/dist-packages (1.24.3)\n",
            "Requirement already satisfied: h5py>=3 in /usr/local/lib/python3.10/dist-packages (from anndata==0.8.0) (3.12.1)\n",
            "Requirement already satisfied: natsort in /usr/local/lib/python3.10/dist-packages (from anndata==0.8.0) (8.4.0)\n",
            "Requirement already satisfied: packaging>=20 in /usr/local/lib/python3.10/dist-packages (from anndata==0.8.0) (24.2)\n",
            "Requirement already satisfied: kaleido in /usr/local/lib/python3.10/dist-packages (from snapatac2==2.4.0) (0.2.1)\n",
            "Requirement already satisfied: multiprocess in /usr/local/lib/python3.10/dist-packages (from snapatac2==2.4.0) (0.70.17)\n",
            "Requirement already satisfied: MACS2>=2.2.7 in /usr/local/lib/python3.10/dist-packages (from snapatac2==2.4.0) (2.2.9.1)\n",
            "Requirement already satisfied: plotly>=5.6.0 in /usr/local/lib/python3.10/dist-packages (from snapatac2==2.4.0) (5.24.1)\n",
            "Requirement already satisfied: polars<=0.18.0,>=0.14.0 in /usr/local/lib/python3.10/dist-packages (from snapatac2==2.4.0) (0.18.0)\n",
            "Requirement already satisfied: pooch>=1.6.0 in /usr/local/lib/python3.10/dist-packages (from snapatac2==2.4.0) (1.8.2)\n",
            "Requirement already satisfied: igraph>=0.10.0 in /usr/local/lib/python3.10/dist-packages (from snapatac2==2.4.0) (0.11.8)\n",
            "Requirement already satisfied: pynndescent in /usr/local/lib/python3.10/dist-packages (from snapatac2==2.4.0) (0.5.13)\n",
            "Requirement already satisfied: pyarrow in /usr/local/lib/python3.10/dist-packages (from snapatac2==2.4.0) (17.0.0)\n",
            "Requirement already satisfied: pyfaidx in /usr/local/lib/python3.10/dist-packages (from snapatac2==2.4.0) (0.8.1.3)\n",
            "Requirement already satisfied: rustworkx in /usr/local/lib/python3.10/dist-packages (from snapatac2==2.4.0) (0.15.1)\n",
            "Requirement already satisfied: scikit-learn>=1.0 in /usr/local/lib/python3.10/dist-packages (from snapatac2==2.4.0) (1.6.0)\n",
            "Requirement already satisfied: tqdm>=4.62 in /usr/local/lib/python3.10/dist-packages (from snapatac2==2.4.0) (4.67.1)\n",
            "Requirement already satisfied: typing-extensions in /usr/local/lib/python3.10/dist-packages (from snapatac2==2.4.0) (4.12.2)\n",
            "Requirement already satisfied: umap-learn>=0.5.0 in /usr/local/lib/python3.10/dist-packages (from snapatac2==2.4.0) (0.5.7)\n",
            "Requirement already satisfied: matplotlib>=3.4 in /usr/local/lib/python3.10/dist-packages (from scanpy==1.9.3) (3.8.0)\n",
            "Requirement already satisfied: seaborn in /usr/local/lib/python3.10/dist-packages (from scanpy==1.9.3) (0.13.2)\n",
            "Requirement already satisfied: statsmodels>=0.10.0rc2 in /usr/local/lib/python3.10/dist-packages (from scanpy==1.9.3) (0.14.4)\n",
            "Requirement already satisfied: patsy in /usr/local/lib/python3.10/dist-packages (from scanpy==1.9.3) (1.0.1)\n",
            "Requirement already satisfied: networkx>=2.3 in /usr/local/lib/python3.10/dist-packages (from scanpy==1.9.3) (3.4.2)\n",
            "Requirement already satisfied: joblib in /usr/local/lib/python3.10/dist-packages (from scanpy==1.9.3) (1.4.2)\n",
            "Requirement already satisfied: numba>=0.41.0 in /usr/local/lib/python3.10/dist-packages (from scanpy==1.9.3) (0.60.0)\n",
            "Requirement already satisfied: session-info in /usr/local/lib/python3.10/dist-packages (from scanpy==1.9.3) (1.0.0)\n",
            "Requirement already satisfied: python-dateutil>=2.8.1 in /usr/local/lib/python3.10/dist-packages (from pandas==1.5.3) (2.8.2)\n",
            "Requirement already satisfied: pytz>=2020.1 in /usr/local/lib/python3.10/dist-packages (from pandas==1.5.3) (2024.2)\n",
            "Requirement already satisfied: texttable>=1.6.2 in /usr/local/lib/python3.10/dist-packages (from igraph>=0.10.0->snapatac2==2.4.0) (1.7.0)\n",
            "Requirement already satisfied: Cython~=0.29 in /usr/local/lib/python3.10/dist-packages (from MACS2>=2.2.7->snapatac2==2.4.0) (0.29.37)\n",
            "Requirement already satisfied: contourpy>=1.0.1 in /usr/local/lib/python3.10/dist-packages (from matplotlib>=3.4->scanpy==1.9.3) (1.3.1)\n",
            "Requirement already satisfied: cycler>=0.10 in /usr/local/lib/python3.10/dist-packages (from matplotlib>=3.4->scanpy==1.9.3) (0.12.1)\n",
            "Requirement already satisfied: fonttools>=4.22.0 in /usr/local/lib/python3.10/dist-packages (from matplotlib>=3.4->scanpy==1.9.3) (4.55.3)\n",
            "Requirement already satisfied: kiwisolver>=1.0.1 in /usr/local/lib/python3.10/dist-packages (from matplotlib>=3.4->scanpy==1.9.3) (1.4.7)\n",
            "Requirement already satisfied: pillow>=6.2.0 in /usr/local/lib/python3.10/dist-packages (from matplotlib>=3.4->scanpy==1.9.3) (11.0.0)\n",
            "Requirement already satisfied: pyparsing>=2.3.1 in /usr/local/lib/python3.10/dist-packages (from matplotlib>=3.4->scanpy==1.9.3) (3.2.0)\n",
            "Requirement already satisfied: llvmlite<0.44,>=0.43.0dev0 in /usr/local/lib/python3.10/dist-packages (from numba>=0.41.0->scanpy==1.9.3) (0.43.0)\n",
            "Requirement already satisfied: tenacity>=6.2.0 in /usr/local/lib/python3.10/dist-packages (from plotly>=5.6.0->snapatac2==2.4.0) (9.0.0)\n",
            "Requirement already satisfied: platformdirs>=2.5.0 in /usr/local/lib/python3.10/dist-packages (from pooch>=1.6.0->snapatac2==2.4.0) (4.3.6)\n",
            "Requirement already satisfied: requests>=2.19.0 in /usr/local/lib/python3.10/dist-packages (from pooch>=1.6.0->snapatac2==2.4.0) (2.32.3)\n",
            "Requirement already satisfied: six>=1.5 in /usr/local/lib/python3.10/dist-packages (from python-dateutil>=2.8.1->pandas==1.5.3) (1.17.0)\n",
            "Requirement already satisfied: threadpoolctl>=3.1.0 in /usr/local/lib/python3.10/dist-packages (from scikit-learn>=1.0->snapatac2==2.4.0) (3.5.0)\n",
            "Requirement already satisfied: dill>=0.3.9 in /usr/local/lib/python3.10/dist-packages (from multiprocess->snapatac2==2.4.0) (0.3.9)\n",
            "Requirement already satisfied: importlib-metadata in /usr/local/lib/python3.10/dist-packages (from pyfaidx->snapatac2==2.4.0) (8.5.0)\n",
            "Requirement already satisfied: stdlib-list in /usr/local/lib/python3.10/dist-packages (from session-info->scanpy==1.9.3) (0.11.0)\n",
            "Requirement already satisfied: charset-normalizer<4,>=2 in /usr/local/lib/python3.10/dist-packages (from requests>=2.19.0->pooch>=1.6.0->snapatac2==2.4.0) (3.4.0)\n",
            "Requirement already satisfied: idna<4,>=2.5 in /usr/local/lib/python3.10/dist-packages (from requests>=2.19.0->pooch>=1.6.0->snapatac2==2.4.0) (3.10)\n",
            "Requirement already satisfied: urllib3<3,>=1.21.1 in /usr/local/lib/python3.10/dist-packages (from requests>=2.19.0->pooch>=1.6.0->snapatac2==2.4.0) (2.2.3)\n",
            "Requirement already satisfied: certifi>=2017.4.17 in /usr/local/lib/python3.10/dist-packages (from requests>=2.19.0->pooch>=1.6.0->snapatac2==2.4.0) (2024.12.14)\n",
            "Requirement already satisfied: zipp>=3.20 in /usr/local/lib/python3.10/dist-packages (from importlib-metadata->pyfaidx->snapatac2==2.4.0) (3.21.0)\n"
          ]
        }
      ],
      "source": [
        "!pip install anndata==0.8.0 snapatac2==2.4.0 scanpy==1.9.3 scipy pandas==1.5.3 numpy==1.24.3"
      ],
      "id": "85c32bf5"
    },
    {
      "cell_type": "code",
      "execution_count": 2,
      "metadata": {
        "colab": {
          "base_uri": "https://localhost:8080/"
        },
        "id": "KiYEgtBkz5HX",
        "outputId": "3c6953a2-ea2c-47d5-a480-5dab17b40d17"
      },
      "outputs": [
        {
          "output_type": "stream",
          "name": "stdout",
          "text": [
            "Drive already mounted at /content/drive; to attempt to forcibly remount, call drive.mount(\"/content/drive\", force_remount=True).\n"
          ]
        }
      ],
      "source": [
        "## If you are using the files on your local computer, no need to run this chunk\n",
        "from google.colab import drive\n",
        "drive.mount('/content/drive')"
      ],
      "id": "KiYEgtBkz5HX"
    },
    {
      "cell_type": "code",
      "execution_count": 3,
      "metadata": {
        "id": "e48a687b"
      },
      "outputs": [],
      "source": [
        "import snapatac2 as snap\n",
        "import numpy as np\n",
        "import anndata as ad\n",
        "import scanpy as sc\n",
        "import pandas as pd\n",
        "from scipy import sparse"
      ],
      "id": "e48a687b"
    },
    {
      "cell_type": "markdown",
      "metadata": {
        "id": "TUhCSFtnVmVk"
      },
      "source": [
        "## Import the raw data\n",
        "Take a look at the data structure, change the input and output directory path to your own."
      ],
      "id": "TUhCSFtnVmVk"
    },
    {
      "cell_type": "code",
      "execution_count": 4,
      "metadata": {
        "id": "630a49b3"
      },
      "outputs": [],
      "source": [
        "dir_in = '/content/drive/My Drive/ATAC_RNA_Analysis_Workshop/01.demo_data'\n",
        "dir_out = '/content/drive/My Drive/ATAC_RNA_Analysis_Workshop/03.output'\n",
        "## see the normalized peak matrix from human data\n",
        "adata_atac = sc.read_h5ad(dir_in+'/Human_hippocampus/adata_peaks_normalized.h5ad')"
      ],
      "id": "630a49b3"
    },
    {
      "cell_type": "code",
      "execution_count": 5,
      "metadata": {
        "colab": {
          "base_uri": "https://localhost:8080/"
        },
        "id": "8ab98751",
        "outputId": "b94a5faa-285c-4028-bdd9-c62e5a1da125"
      },
      "outputs": [
        {
          "output_type": "execute_result",
          "data": {
            "text/plain": [
              "AnnData object with n_obs × n_vars = 9215 × 121068\n",
              "    obs: 'nCount_Spatial', 'nFeature_Spatial', 'nCount_SCT', 'nFeature_SCT', 'nCount_ATAC', 'nFeature_ATAC', 'nCount_peaks', 'nFeature_peaks', 'RNA_clusters', 'ATAC_clusters'\n",
              "    var: 'count', 'percentile'\n",
              "    uns: 'ATAC', 'ATAC_clusters_colors', 'umap'\n",
              "    obsm: 'X_lsi', 'X_pca', 'X_umap', 'spatial'\n",
              "    obsp: 'ATAC_connectivities', 'ATAC_distances'"
            ]
          },
          "metadata": {},
          "execution_count": 5
        }
      ],
      "source": [
        "adata_atac"
      ],
      "id": "8ab98751"
    },
    {
      "cell_type": "code",
      "execution_count": 6,
      "metadata": {
        "colab": {
          "base_uri": "https://localhost:8080/"
        },
        "id": "bc4ec838",
        "outputId": "db347ac0-8bba-4d17-ee9d-d964b2811e53"
      },
      "outputs": [
        {
          "output_type": "execute_result",
          "data": {
            "text/plain": [
              "Index(['chr1-3094734-3095650', 'chr1-3119757-3120179', 'chr1-3120267-3120653',\n",
              "       'chr1-3121314-3122051', 'chr1-3264998-3265766', 'chr1-3292462-3293293',\n",
              "       'chr1-3294044-3295081', 'chr1-3300717-3301474', 'chr1-3301682-3302319',\n",
              "       'chr1-3309769-3310662',\n",
              "       ...\n",
              "       'JH584304.1-106380-107258', 'JH584304.1-112856-113752',\n",
              "       'GL456216.1-13410-14374', 'GL456216.1-16007-16700',\n",
              "       'GL456216.1-16825-17441', 'GL456216.1-31908-32576',\n",
              "       'GL456216.1-43983-44510', 'GL456216.1-48771-49683',\n",
              "       'JH584292.1-12571-13497', 'JH584295.1-1163-1976'],\n",
              "      dtype='object', length=121068)"
            ]
          },
          "metadata": {},
          "execution_count": 6
        }
      ],
      "source": [
        "adata_atac.var_names"
      ],
      "id": "bc4ec838"
    },
    {
      "cell_type": "markdown",
      "metadata": {
        "id": "c5802a47"
      },
      "source": [
        "## Process fragment file from ATAC into snapATAC2"
      ],
      "id": "c5802a47"
    },
    {
      "cell_type": "code",
      "execution_count": 7,
      "metadata": {
        "colab": {
          "base_uri": "https://localhost:8080/",
          "height": 35
        },
        "id": "909cf0be",
        "outputId": "09f3b6c8-fd90-42b9-8fae-0d403bc07f34"
      },
      "outputs": [
        {
          "output_type": "execute_result",
          "data": {
            "text/plain": [
              "'2.4.0'"
            ],
            "application/vnd.google.colaboratory.intrinsic+json": {
              "type": "string"
            }
          },
          "metadata": {},
          "execution_count": 7
        }
      ],
      "source": [
        "snap.__version__"
      ],
      "id": "909cf0be"
    },
    {
      "cell_type": "code",
      "execution_count": 8,
      "metadata": {
        "colab": {
          "base_uri": "https://localhost:8080/",
          "height": 35
        },
        "id": "9VM9l-1iZtNx",
        "outputId": "b83c8c20-52d9-42e3-efc4-33e17c8a9c4f"
      },
      "outputs": [
        {
          "output_type": "execute_result",
          "data": {
            "text/plain": [
              "'0.8.0'"
            ],
            "application/vnd.google.colaboratory.intrinsic+json": {
              "type": "string"
            }
          },
          "metadata": {},
          "execution_count": 8
        }
      ],
      "source": [
        "ad.__version__"
      ],
      "id": "9VM9l-1iZtNx"
    },
    {
      "cell_type": "code",
      "execution_count": 9,
      "metadata": {
        "id": "e364dd19"
      },
      "outputs": [],
      "source": [
        "fragment_file = dir_in + '/Human_hippocampus/fragments.tsv.gz'"
      ],
      "id": "e364dd19"
    },
    {
      "cell_type": "code",
      "execution_count": 10,
      "metadata": {
        "colab": {
          "base_uri": "https://localhost:8080/"
        },
        "id": "6d7133a3",
        "outputId": "4fedd304-43f9-4605-86ee-5a59d644d5bf"
      },
      "outputs": [
        {
          "metadata": {
            "tags": null
          },
          "name": "stderr",
          "output_type": "stream",
          "text": [
            "Downloading file 'gencode_v41_GRCh38.gff3.gz' from 'https://ftp.ebi.ac.uk/pub/databases/gencode/Gencode_human/release_41/gencode.v41.basic.annotation.gff3.gz' to '/root/.cache/snapatac2'.\n"
          ]
        },
        {
          "output_type": "stream",
          "name": "stdout",
          "text": [
            "CPU times: user 5min 43s, sys: 19 s, total: 6min 2s\n",
            "Wall time: 6min 30s\n"
          ]
        },
        {
          "output_type": "execute_result",
          "data": {
            "text/plain": [
              "AnnData object with n_obs x n_vars = 2500 x 0 backed at '/content/drive/My Drive/ATAC_RNA_Analysis_Workshop/01.demo_data/human_hippo_atac.h5ad'\n",
              "    obs: 'tsse', 'n_fragment', 'frac_dup', 'frac_mito'\n",
              "    uns: 'reference_sequences'\n",
              "    obsm: 'insertion'"
            ]
          },
          "metadata": {},
          "execution_count": 10
        }
      ],
      "source": [
        "%%time\n",
        "#colab 5 min\n",
        "data = snap.pp.import_data(\n",
        "    fragment_file,\n",
        "    genome=snap.genome.hg38,\n",
        "    file = dir_in + \"/human_hippo_atac.h5ad\",\n",
        "    sorted_by_barcode=False,\n",
        ")\n",
        "data"
      ],
      "id": "6d7133a3"
    },
    {
      "cell_type": "code",
      "execution_count": 11,
      "metadata": {
        "colab": {
          "base_uri": "https://localhost:8080/",
          "height": 417
        },
        "id": "35eaeb07",
        "outputId": "16bdde2e-27de-4016-ee1b-d7f449ddd36b"
      },
      "outputs": [
        {
          "output_type": "execute_result",
          "data": {
            "image/png": "[encoded data removed]",
            "text/plain": [
              "<IPython.core.display.Image object>"
            ]
          },
          "metadata": {},
          "execution_count": 11
        }
      ],
      "source": [
        "snap.pl.tsse(data, interactive=False)"
      ],
      "id": "35eaeb07"
    },
    {
      "cell_type": "code",
      "execution_count": 12,
      "metadata": {
        "colab": {
          "base_uri": "https://localhost:8080/"
        },
        "id": "adyeaTFACmrS",
        "outputId": "7e1cf9e7-42c1-4197-881f-0d75a15e9c06"
      },
      "outputs": [
        {
          "output_type": "stream",
          "name": "stdout",
          "text": [
            "CPU times: user 1min 12s, sys: 8.57 s, total: 1min 20s\n",
            "Wall time: 1min 24s\n"
          ]
        }
      ],
      "source": [
        "%%time\n",
        "#colab 1min 12s\n",
        "snap.pp.add_tile_matrix(data)"
      ],
      "id": "adyeaTFACmrS"
    },
    {
      "cell_type": "code",
      "execution_count": 13,
      "metadata": {
        "colab": {
          "base_uri": "https://localhost:8080/"
        },
        "id": "aXyekBoQCn5L",
        "outputId": "9e442eb3-bbca-4a8a-8d88-f6e4dd895c6e"
      },
      "outputs": [
        {
          "output_type": "execute_result",
          "data": {
            "text/plain": [
              "AnnData object with n_obs x n_vars = 2500 x 6062095 backed at '/content/drive/My Drive/ATAC_RNA_Analysis_Workshop/01.demo_data/human_hippo_atac.h5ad'\n",
              "    obs: 'tsse', 'n_fragment', 'frac_dup', 'frac_mito'\n",
              "    uns: 'reference_sequences'\n",
              "    obsm: 'insertion'"
            ]
          },
          "metadata": {},
          "execution_count": 13
        }
      ],
      "source": [
        "data"
      ],
      "id": "aXyekBoQCn5L"
    },
    {
      "cell_type": "code",
      "execution_count": 14,
      "metadata": {
        "id": "f7c37a6e"
      },
      "outputs": [],
      "source": [
        "snap.pp.select_features(data, n_features=250000)"
      ],
      "id": "f7c37a6e"
    },
    {
      "cell_type": "markdown",
      "metadata": {
        "id": "a068f7a6"
      },
      "source": [
        "## Dimenstion reduction"
      ],
      "id": "a068f7a6"
    },
    {
      "cell_type": "code",
      "execution_count": 15,
      "metadata": {
        "colab": {
          "base_uri": "https://localhost:8080/"
        },
        "id": "2c9e67df",
        "outputId": "0407f57c-a902-4764-cfc0-f00d64b9f774"
      },
      "outputs": [
        {
          "output_type": "stream",
          "name": "stdout",
          "text": [
            "CPU times: user 31.8 s, sys: 3.21 s, total: 35 s\n",
            "Wall time: 35.9 s\n"
          ]
        }
      ],
      "source": [
        "%%time\n",
        "#colab 53.5s\n",
        "snap.tl.spectral(data)"
      ],
      "id": "2c9e67df"
    },
    {
      "cell_type": "code",
      "execution_count": 17,
      "metadata": {
        "colab": {
          "base_uri": "https://localhost:8080/"
        },
        "id": "a6263df0",
        "outputId": "db633229-a6a9-4e0e-f97f-e2cdbc2cfaa0"
      },
      "outputs": [
        {
          "output_type": "stream",
          "name": "stderr",
          "text": [
            "/usr/local/lib/python3.10/dist-packages/sklearn/utils/deprecation.py:151: FutureWarning:\n",
            "\n",
            "'force_all_finite' was renamed to 'ensure_all_finite' in 1.6 and will be removed in 1.8.\n",
            "\n",
            "/usr/local/lib/python3.10/dist-packages/umap/umap_.py:1952: UserWarning:\n",
            "\n",
            "n_jobs value 1 overridden to 1 by setting random_state. Use no seed for parallelism.\n",
            "\n"
          ]
        },
        {
          "output_type": "stream",
          "name": "stdout",
          "text": [
            "CPU times: user 1min 17s, sys: 9.96 s, total: 1min 27s\n",
            "Wall time: 1min 19s\n"
          ]
        }
      ],
      "source": [
        "%%time\n",
        "snap.tl.umap(data)"
      ],
      "id": "a6263df0"
    },
    {
      "cell_type": "markdown",
      "metadata": {
        "id": "d33f3a90"
      },
      "source": [
        "## Clustering and call peaks"
      ],
      "id": "d33f3a90"
    },
    {
      "cell_type": "code",
      "execution_count": 18,
      "metadata": {
        "colab": {
          "base_uri": "https://localhost:8080/"
        },
        "id": "fe2dfd97",
        "outputId": "d4273bce-b408-4a17-abda-c77a543d757a"
      },
      "outputs": [
        {
          "output_type": "stream",
          "name": "stdout",
          "text": [
            "CPU times: user 1.6 s, sys: 94.7 ms, total: 1.69 s\n",
            "Wall time: 1.28 s\n"
          ]
        }
      ],
      "source": [
        "%%time\n",
        "snap.pp.knn(data)\n",
        "snap.tl.leiden(data)"
      ],
      "id": "fe2dfd97"
    },
    {
      "cell_type": "code",
      "execution_count": 19,
      "metadata": {
        "colab": {
          "base_uri": "https://localhost:8080/",
          "height": 517
        },
        "id": "f10be3df",
        "outputId": "57a2947c-15ac-4e5b-e5f9-f8be77a0dbc1"
      },
      "outputs": [
        {
          "output_type": "execute_result",
          "data": {
            "image/png": "[encoded data removed]",
            "text/plain": [
              "<IPython.core.display.Image object>"
            ]
          },
          "metadata": {},
          "execution_count": 19
        }
      ],
      "source": [
        "snap.pl.umap(data, color='leiden', interactive=False, height=500)"
      ],
      "id": "f10be3df"
    },
    {
      "cell_type": "code",
      "execution_count": 20,
      "metadata": {
        "colab": {
          "base_uri": "https://localhost:8080/"
        },
        "id": "b55f08b2",
        "outputId": "33dcbcdb-81ab-4799-f8fc-0c0252adaa6f"
      },
      "outputs": [
        {
          "output_type": "stream",
          "name": "stdout",
          "text": [
            "CPU times: user 3min 43s, sys: 18.2 s, total: 4min 1s\n",
            "Wall time: 14min 26s\n"
          ]
        }
      ],
      "source": [
        "%%time\n",
        "# colab time 3min 54s\n",
        "snap.tl.call_peaks(data, groupby='leiden')"
      ],
      "id": "b55f08b2"
    },
    {
      "cell_type": "code",
      "execution_count": 21,
      "metadata": {
        "id": "f5235ca5",
        "colab": {
          "base_uri": "https://localhost:8080/"
        },
        "outputId": "d4210698-2de7-4946-8f2c-27a3150ffa86"
      },
      "outputs": [
        {
          "output_type": "execute_result",
          "data": {
            "text/plain": [
              "AnnData object with n_obs x n_vars = 2500 x 6062095 backed at '/content/drive/My Drive/ATAC_RNA_Analysis_Workshop/01.demo_data/human_hippo_atac.h5ad'\n",
              "    obs: 'tsse', 'n_fragment', 'frac_dup', 'frac_mito', 'leiden'\n",
              "    var: 'count', 'selected'\n",
              "    uns: 'reference_sequences', 'spectral_eigenvalue', 'peaks'\n",
              "    obsm: 'X_spectral', 'insertion', 'X_umap'\n",
              "    obsp: 'distances'"
            ]
          },
          "metadata": {},
          "execution_count": 21
        }
      ],
      "source": [
        "data"
      ],
      "id": "f5235ca5"
    },
    {
      "cell_type": "code",
      "execution_count": 22,
      "metadata": {
        "id": "1e7131e4",
        "colab": {
          "base_uri": "https://localhost:8080/"
        },
        "outputId": "67dd27e6-aa5c-4fa3-dc62-7f9200b7ddbf"
      },
      "outputs": [
        {
          "output_type": "stream",
          "name": "stderr",
          "text": [
            "/usr/local/lib/python3.10/dist-packages/anndata/_core/anndata.py:121: ImplicitModificationWarning:\n",
            "\n",
            "Transforming to str index.\n",
            "\n"
          ]
        },
        {
          "output_type": "stream",
          "name": "stdout",
          "text": [
            "CPU times: user 1min 36s, sys: 3.95 s, total: 1min 40s\n",
            "Wall time: 1min 15s\n"
          ]
        },
        {
          "output_type": "execute_result",
          "data": {
            "text/plain": [
              "AnnData object with n_obs × n_vars = 2500 × 306104\n",
              "    obs: 'tsse', 'n_fragment', 'frac_dup', 'frac_mito', 'leiden'"
            ]
          },
          "metadata": {},
          "execution_count": 22
        }
      ],
      "source": [
        "%%time\n",
        "peak_mat = snap.pp.make_peak_matrix(data)\n",
        "peak_mat"
      ],
      "id": "1e7131e4"
    },
    {
      "cell_type": "code",
      "execution_count": 23,
      "metadata": {
        "id": "e456b2b7"
      },
      "outputs": [],
      "source": [
        "sc.pp.normalize_total(peak_mat)\n",
        "sc.pp.log1p(peak_mat)"
      ],
      "id": "e456b2b7"
    },
    {
      "cell_type": "code",
      "execution_count": 24,
      "metadata": {
        "id": "bb862802",
        "colab": {
          "base_uri": "https://localhost:8080/"
        },
        "outputId": "b1bb0468-68c9-4fb9-a147-0e11e1d70930"
      },
      "outputs": [
        {
          "output_type": "execute_result",
          "data": {
            "text/plain": [
              "AnnData object with n_obs × n_vars = 2500 × 306104\n",
              "    obs: 'tsse', 'n_fragment', 'frac_dup', 'frac_mito', 'leiden'\n",
              "    uns: 'log1p'"
            ]
          },
          "metadata": {},
          "execution_count": 24
        }
      ],
      "source": [
        "peak_mat"
      ],
      "id": "bb862802"
    },
    {
      "cell_type": "code",
      "execution_count": null,
      "metadata": {
        "id": "bd7be8a5"
      },
      "outputs": [],
      "source": [
        "peak_mat.write(dir_out+'/human_hippo_peak_mat.h5ad')"
      ],
      "id": "bd7be8a5"
    },
    {
      "cell_type": "markdown",
      "metadata": {
        "id": "b95d5897"
      },
      "source": [
        "## Import DBiT RNA data"
      ],
      "id": "b95d5897"
    },
    {
      "cell_type": "code",
      "execution_count": 25,
      "metadata": {
        "id": "f2a1972e"
      },
      "outputs": [],
      "source": [
        "data_folder = dir_in + '/Human_hippocampus'\n",
        "exp_mtx_path = f'{data_folder}/brain_E_stdata_names.tsv'\n",
        "exp_mtx = pd.read_csv(f'{data_folder}/brain_E_stdata_names.tsv', delimiter='\\t', index_col=0)"
      ],
      "id": "f2a1972e"
    },
    {
      "cell_type": "code",
      "execution_count": 37,
      "metadata": {
        "id": "5b4b62bd"
      },
      "outputs": [],
      "source": [
        "barcodes_list = pd.read_csv(f'{data_folder}/spatial_barcodes.txt', delimiter='\\t', header=None)"
      ],
      "id": "5b4b62bd"
    },
    {
      "cell_type": "code",
      "execution_count": 38,
      "metadata": {
        "id": "1206aaa1"
      },
      "outputs": [],
      "source": [
        "barcodes_list['index'] = barcodes_list[[1,2]].astype('str').agg('x'.join, axis=1)"
      ],
      "id": "1206aaa1"
    },
    {
      "cell_type": "code",
      "execution_count": 39,
      "metadata": {
        "id": "d671020c"
      },
      "outputs": [],
      "source": [
        "obs_barcodes = [barcodes_list[barcodes_list['index']== item][0].tolist()[0]+'-1' for item in list(exp_mtx.index)]"
      ],
      "id": "d671020c"
    },
    {
      "cell_type": "code",
      "execution_count": 40,
      "metadata": {
        "id": "5c55e271",
        "colab": {
          "base_uri": "https://localhost:8080/"
        },
        "outputId": "27a47c8c-577d-4308-ca9e-5435f0e97d2e"
      },
      "outputs": [
        {
          "output_type": "execute_result",
          "data": {
            "text/plain": [
              "2500"
            ]
          },
          "metadata": {},
          "execution_count": 40
        }
      ],
      "source": [
        "len(obs_barcodes)"
      ],
      "id": "5c55e271"
    },
    {
      "cell_type": "code",
      "execution_count": 41,
      "metadata": {
        "id": "1ab8df92",
        "colab": {
          "base_uri": "https://localhost:8080/"
        },
        "outputId": "6b068f31-5394-4c03-ed9e-37928f4d660f"
      },
      "outputs": [
        {
          "output_type": "stream",
          "name": "stderr",
          "text": [
            "<ipython-input-41-868172ce7ac2>:1: FutureWarning:\n",
            "\n",
            "X.dtype being converted to np.float32 from float64. In the next version of anndata (0.9) conversion will not be automatic. Pass dtype explicitly to avoid this warning. Pass `AnnData(X, dtype=X.dtype, ...)` to get the future behavour.\n",
            "\n"
          ]
        }
      ],
      "source": [
        "adata_rna = ad.AnnData(sparse.csc_matrix(exp_mtx.values))\n",
        "adata_rna.obs_names = obs_barcodes\n",
        "adata_rna.var_names = list(exp_mtx.columns)"
      ],
      "id": "1ab8df92"
    },
    {
      "cell_type": "code",
      "execution_count": 42,
      "metadata": {
        "id": "81ba5a1a"
      },
      "outputs": [],
      "source": [
        "adata_rna.obs_names_make_unique()"
      ],
      "id": "81ba5a1a"
    },
    {
      "cell_type": "code",
      "execution_count": 43,
      "metadata": {
        "id": "75e5432a",
        "colab": {
          "base_uri": "https://localhost:8080/"
        },
        "outputId": "dc58f125-dea8-457f-a023-4472228aa376"
      },
      "outputs": [
        {
          "output_type": "execute_result",
          "data": {
            "text/plain": [
              "Index(['CCGTGAGAAGAGTCAA-1', 'AGATCGCAGAATCTGA-1', 'CGACTGGAAAGACGGA-1',\n",
              "       'ATCCTGTACCGTGAGA-1', 'AGAGTCAAACGTATCA-1', 'AGTGGTCAGAATCTGA-1',\n",
              "       'CATACCAAAACGCTTA-1', 'ACAGCAGAAAGGTACA-1', 'CTGTAGCCACTATGCA-1',\n",
              "       'CTGGCATAAGCAGGAA-1',\n",
              "       ...\n",
              "       'AAGGTACAACCACTGT-1', 'CTGTAGCCAACGTGAT-1', 'GACTAGTAAAACATCG-1',\n",
              "       'ACGCTCGAAAACATCG-1', 'ACGTATCACCGTGAGA-1', 'CAGCGTTAAGTGGTCA-1',\n",
              "       'ACAAGCTAAGTGGTCA-1', 'ACTATGCAAAACATCG-1', 'ACGTATCAAACGTGAT-1',\n",
              "       'ACGTATCAAAACATCG-1'],\n",
              "      dtype='object', length=2500)"
            ]
          },
          "metadata": {},
          "execution_count": 43
        }
      ],
      "source": [
        "adata_rna.obs_names"
      ],
      "id": "75e5432a"
    },
    {
      "cell_type": "code",
      "execution_count": 44,
      "metadata": {
        "id": "416dbdb0"
      },
      "outputs": [],
      "source": [
        "obs_match = 0\n",
        "for item in adata_rna.obs_names:\n",
        "    if item in peak_mat.obs_names:\n",
        "        obs_match +=1"
      ],
      "id": "416dbdb0"
    },
    {
      "cell_type": "code",
      "execution_count": 45,
      "metadata": {
        "id": "5e4c069f",
        "colab": {
          "base_uri": "https://localhost:8080/"
        },
        "outputId": "12f1c363-f154-4604-f7f9-0753bdc5ef4f"
      },
      "outputs": [
        {
          "output_type": "execute_result",
          "data": {
            "text/plain": [
              "2500"
            ]
          },
          "metadata": {},
          "execution_count": 45
        }
      ],
      "source": [
        "obs_match"
      ],
      "id": "5e4c069f"
    },
    {
      "cell_type": "code",
      "execution_count": 46,
      "metadata": {
        "id": "5b3a04aa",
        "colab": {
          "base_uri": "https://localhost:8080/"
        },
        "outputId": "1d75cd1c-a90c-42f9-e624-37e720ebdcdb"
      },
      "outputs": [
        {
          "output_type": "execute_result",
          "data": {
            "text/plain": [
              "AnnData object with n_obs × n_vars = 2500 × 37071"
            ]
          },
          "metadata": {},
          "execution_count": 46
        }
      ],
      "source": [
        "adata_rna"
      ],
      "id": "5b3a04aa"
    },
    {
      "cell_type": "code",
      "execution_count": null,
      "metadata": {
        "id": "88cf6f7b"
      },
      "outputs": [],
      "source": [
        "adata_rna.write(dir_out + '/human_hippo_rna_mat.h5ad')"
      ],
      "id": "88cf6f7b"
    }
  ],
  "metadata": {
    "colab": {
      "provenance": [],
      "include_colab_link": true
    },
    "kernelspec": {
      "display_name": "Python 3 (ipykernel)",
      "language": "python",
      "name": "python3"
    },
    "language_info": {
      "codemirror_mode": {
        "name": "ipython",
        "version": 3
      },
      "file_extension": ".py",
      "mimetype": "text/x-python",
      "name": "python",
      "nbconvert_exporter": "python",
      "pygments_lexer": "ipython3",
      "version": "3.8.17"
    }
  },
  "nbformat": 4,
  "nbformat_minor": 5
}